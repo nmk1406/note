{
  "nbformat": 4,
  "nbformat_minor": 0,
  "metadata": {
    "colab": {
      "name": "Ridge-Lasso.ipynb",
      "provenance": [],
      "authorship_tag": "ABX9TyPhI6TcNFhqEvNJrh4EXgBd",
      "include_colab_link": true
    },
    "kernelspec": {
      "name": "python3",
      "display_name": "Python 3"
    },
    "language_info": {
      "name": "python"
    }
  },
  "cells": [
    {
      "cell_type": "markdown",
      "metadata": {
        "id": "view-in-github",
        "colab_type": "text"
      },
      "source": [
        "<a href=\"https://colab.research.google.com/github/nmk1406/note/blob/main/Ridge_Lasso.ipynb\" target=\"_parent\"><img src=\"https://colab.research.google.com/assets/colab-badge.svg\" alt=\"Open In Colab\"/></a>"
      ]
    },
    {
      "cell_type": "markdown",
      "source": [
        "# **Ridge & Lasso Regression**"
      ],
      "metadata": {
        "id": "WKTZeCUSq8Gw"
      }
    },
    {
      "cell_type": "markdown",
      "source": [
        "---"
      ],
      "metadata": {
        "id": "qK_lhqfmqq5g"
      }
    },
    {
      "cell_type": "markdown",
      "source": [
        "**Đầu vào:** D = {{$x_1,  y_1$}, {$x_2,  y_2$}, ..., {$x_m,  y_m$}} và λ > 0\n",
        "\n",
        "**Đầu ra:** vector $w^*$\n",
        "\n",
        "**Tính:** $$w^* = (A^TA + λ \\mathbf{I}_{n+1})^{-1}A^Ty$$\n",
        "\n",
        "**Dự đoán:** $$y_x = w_0^* + w_1^*x_1 + ...+ w_n^*x_n$$\n"
      ],
      "metadata": {
        "id": "oU-QfNBAW-lO"
      }
    },
    {
      "cell_type": "markdown",
      "source": [
        "---"
      ],
      "metadata": {
        "id": "j1xGRLkwqjle"
      }
    },
    {
      "cell_type": "markdown",
      "source": [
        "![](https://github.com/nmk1406/note/blob/main/img/Lasso%20&%20Ridge.png?raw=true)\n",
        "\n"
      ],
      "metadata": {
        "id": "DwIOsEtfmmKI"
      }
    },
    {
      "cell_type": "markdown",
      "source": [
        "---"
      ],
      "metadata": {
        "id": "fYWR6CR-qveC"
      }
    },
    {
      "cell_type": "markdown",
      "source": [
        "**Ridge Regression ($L_2$)**"
      ],
      "metadata": {
        "id": "4aVYlyYbekEp"
      }
    },
    {
      "cell_type": "markdown",
      "source": [
        "$$w^* = \\arg \\min_{\\mathbf{w}} \\sum_{i=1}^{m} (y_i - A_iw)^2 + λ||w||_2$$"
      ],
      "metadata": {
        "id": "69THtRdigIgA"
      }
    },
    {
      "cell_type": "markdown",
      "source": [
        "**Chuẩn $L_2$:** \n",
        "$$L_{2} = \\|\\mathbf{x}\\|_2 = \\sqrt{\\sum_{i=1}^n x_i^2 }$$"
      ],
      "metadata": {
        "id": "d4WtoWa_XpzG"
      }
    },
    {
      "cell_type": "markdown",
      "source": [
        "---"
      ],
      "metadata": {
        "id": "5Exa3W_Uqy0p"
      }
    },
    {
      "cell_type": "markdown",
      "source": [
        "**Lasso Regression ($L_1$)**"
      ],
      "metadata": {
        "id": "fiWHD4bjf2qQ"
      }
    },
    {
      "cell_type": "markdown",
      "source": [
        "$$w^* = \\arg \\min_{\\mathbf{w}} \\sum_{i=1}^{m} (y_i - A_iw)^2 + λ||w||_1$$"
      ],
      "metadata": {
        "id": "t1z9dGMDjiOc"
      }
    },
    {
      "cell_type": "markdown",
      "source": [
        "**Chuẩn $L_1$:** \n",
        "$$L_{1} = \\|\\mathbf{x}\\|_1 = \\sum_{i=1}^n |x_i|$$"
      ],
      "metadata": {
        "id": "KXVp1xdNpBOK"
      }
    },
    {
      "cell_type": "markdown",
      "source": [
        "---"
      ],
      "metadata": {
        "id": "TPNNkzstq1wZ"
      }
    },
    {
      "cell_type": "markdown",
      "source": [
        "**Tinh chỉnh siêu tham số λ:**\n",
        "\n",
        "- Giới hạn độ phức tạp của thuật toán.\n",
        "\n",
        "- Trade off giữa lỗi trên tập huấn luyện và khả năng tổng quát hóa.\n",
        "\n",
        "- **Lưu ý:**\n",
        "\n",
        "  - λ lớn dẫn tới underfitting.\n",
        "\n",
        "  - λ bé dẫn tới overfitting."
      ],
      "metadata": {
        "id": "_Ve8iPYvcTmG"
      }
    },
    {
      "cell_type": "markdown",
      "source": [
        "---"
      ],
      "metadata": {
        "id": "pfViq0Sfq3rz"
      }
    },
    {
      "cell_type": "markdown",
      "source": [
        "**Ưu điểm:**\n",
        "\n",
        "- Lasso có thể chọn biến quan trọng.\n",
        "\n",
        "- Tránh trường hợp ma trận suy biến (luôn khả nghịch).\n",
        "\n",
        "- Giảm overfitting.\n",
        "\n",
        "**Nhược điểm:**\n",
        "\n",
        "- Lỗi trên tập huấn luyện lớn hơn so với OLS."
      ],
      "metadata": {
        "id": "yApBqwwkd_Tv"
      }
    }
  ]
}