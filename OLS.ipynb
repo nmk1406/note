{
  "nbformat": 4,
  "nbformat_minor": 0,
  "metadata": {
    "colab": {
      "name": "OLS.ipynb",
      "provenance": [],
      "authorship_tag": "ABX9TyNCGtuaZtFaYvQNNms8rj8X",
      "include_colab_link": true
    },
    "kernelspec": {
      "name": "python3",
      "display_name": "Python 3"
    },
    "language_info": {
      "name": "python"
    }
  },
  "cells": [
    {
      "cell_type": "markdown",
      "metadata": {
        "id": "view-in-github",
        "colab_type": "text"
      },
      "source": [
        "<a href=\"https://colab.research.google.com/github/nmk1406/note/blob/main/OLS.ipynb\" target=\"_parent\"><img src=\"https://colab.research.google.com/assets/colab-badge.svg\" alt=\"Open In Colab\"/></a>"
      ]
    },
    {
      "cell_type": "markdown",
      "source": [
        "# **OLS**"
      ],
      "metadata": {
        "id": "9gFFW5aGToDs"
      }
    },
    {
      "cell_type": "markdown",
      "source": [
        "**Đầu vào:** D = {{$x_1,  y_1$}, {$x_2,  y_2$}, ..., {$x_m,  y_m$}}\n",
        "\n",
        "**Đầu ra:** vector $w^*$\n",
        "\n",
        "**Tính:** $w^* = (A^TA)^{-1}A^Ty$\n",
        "\n",
        "- A là ma trận m x (n+1)\n",
        "- $A_i = (1, x_{i1}, x_{i2}, ..., x_{in})$\n",
        "- $A^{-1}$ là ma trận nghịch đảo\n",
        "- y = $(y_1, y_2, ..., y_m)^T$\n",
        "\n",
        "- **Lưu ý:** Ma trận $A^TA$ phải khả nghịch\n",
        "\n",
        "**Dự đoán:** $y_x = w_0^* + w_1^*x_1 + ...+ w_n^*x_n$"
      ],
      "metadata": {
        "id": "zqOOYMqVFrf3"
      }
    },
    {
      "cell_type": "markdown",
      "source": [
        "**Nhược điểm:**\n",
        "\n",
        "- OLS sẽ không hoạt động nếu vài biến trong A phụ thuộc tuyến tính ($A^TA$ không khả nghịch).\n",
        "\n",
        "- Tính ma trận nghịch đảo sẽ rất tốn kém trong dữ liệu có số chiều lớn.\n",
        "\n",
        "- OLS dễ overfitting do chỉ tập trung cực tiểu hóa lỗi trên tập huấn luyện."
      ],
      "metadata": {
        "id": "DK4utoHnO5Vh"
      }
    }
  ]
}