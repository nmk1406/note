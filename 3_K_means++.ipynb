{
  "nbformat": 4,
  "nbformat_minor": 0,
  "metadata": {
    "colab": {
      "name": "3_K-means++.ipynb",
      "provenance": [],
      "authorship_tag": "ABX9TyOVUQeTKcaQfAoY1xNbDx75",
      "include_colab_link": true
    },
    "kernelspec": {
      "name": "python3",
      "display_name": "Python 3"
    },
    "language_info": {
      "name": "python"
    }
  },
  "cells": [
    {
      "cell_type": "markdown",
      "metadata": {
        "id": "view-in-github",
        "colab_type": "text"
      },
      "source": [
        "<a href=\"https://colab.research.google.com/github/nmk1406/note/blob/main/3_K_means%2B%2B.ipynb\" target=\"_parent\"><img src=\"https://colab.research.google.com/assets/colab-badge.svg\" alt=\"Open In Colab\"/></a>"
      ]
    },
    {
      "cell_type": "markdown",
      "source": [
        "# **K-means++**"
      ],
      "metadata": {
        "id": "d47s7gmiozwH"
      }
    },
    {
      "cell_type": "markdown",
      "source": [
        "---"
      ],
      "metadata": {
        "id": "mdEUaLYMo7r_"
      }
    },
    {
      "cell_type": "markdown",
      "source": [
        "**Đầu vào:** tập $D$, số cụm $K$, độ đo khoảng cách $d(x,y)$\n",
        "\n",
        "- **Lưu ý:** Cần chọn $d(x,y)$ phù hợp với tính chất của dữ liệu\n",
        "\n",
        "**Khởi tạo:** $K$ tâm tuần tự\n",
        "\n",
        "- Tạo ngẫu nhiên tâm đầu tiên\n",
        "\n",
        "- Tâm tiếp theo cách các tâm trước đó xa nhất\n",
        "\n",
        "**Lặp lại:** tới khi thuật toán hội tụ\n",
        "\n",
        "- Gán dữ liệu vào cụm có tâm gần nhất\n",
        "\n",
        "- Tính lại tâm ứng với mỗi cụm"
      ],
      "metadata": {
        "id": "ePOUjQF-C8hg"
      }
    },
    {
      "cell_type": "markdown",
      "source": [
        "---"
      ],
      "metadata": {
        "id": "fFWHhs8Qo9cb"
      }
    },
    {
      "cell_type": "markdown",
      "source": [
        "**Thuật toán hội tụ khi:**\n",
        "\n",
        "- Tâm cụm không đổi.\n",
        "\n",
        "- Tổng khoảng cách của các điểm dữ liệu trong cụm tới tâm cụm là nhỏ nhất:\n",
        "$$Error = \\sum_{i=1}^{K}\\sum_{x∈C_i} d(x, m_i)^2 $$\n",
        "\n",
        "  - $C_i$ là cụm thứ $i$\n",
        "  - $m_i$ là tâm cụm thứ $i$"
      ],
      "metadata": {
        "id": "gI29uSAXC99S"
      }
    },
    {
      "cell_type": "markdown",
      "source": [
        "---"
      ],
      "metadata": {
        "id": "CM3yTwHAo-6s"
      }
    },
    {
      "cell_type": "markdown",
      "source": [
        "**Nhược điểm:**\n",
        "\n",
        "K-means++ hoạt động không tốt khi:\n",
        "\n",
        "- Các cụm:\n",
        "\n",
        "  - Có sự khác biệt về kích thước.\n",
        "\n",
        "  - Có mật độ khác nhau.\n",
        "\n",
        "  - Không phải hình cầu.\n",
        "\n",
        "- Dữ liệu có outliers.\n"
      ],
      "metadata": {
        "id": "WqlW8m_JJplP"
      }
    }
  ]
}